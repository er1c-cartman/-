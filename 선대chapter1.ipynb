{
 "cells": [
  {
   "cell_type": "markdown",
   "metadata": {},
   "source": [
    "# chapter1 벡터\n",
    "\n",
    "   - 벡터의 차원: 벡터가 가진 원소의 수\n",
    "   - 벡터의 방향: 열방향, 행방향인지\n",
    "   - 차원표기법: $R^2, R_2, R2$등으로 표현\n",
    "   - ex: $ x=\\begin{bmatrix} 1 \\\\ 2 \\\\ 5 \\\\ 6\\end{bmatrix} $ x는 4차원 열벡터\n",
    "   - $z = \\begin{bmatrix} 1, 4, 5, 6\\end{bmatrix}$ z는 4차원 행벡터\n",
    "   - $ \\in$ 특정 집합에 포함되어있다\n",
    "   - . \n",
    "   - .\n",
    "   - .\n",
    "   - \n",
    "   \n"
   ]
  },
  {
   "cell_type": "code",
   "execution_count": 2,
   "metadata": {},
   "outputs": [
    {
     "name": "stdout",
     "output_type": "stream",
     "text": [
      "[1, 2, 3]\n",
      "[1 2 3]\n",
      "[[1 2 3]]\n",
      "[[1]\n",
      " [2]\n",
      " [3]]\n"
     ]
    }
   ],
   "source": [
    "# 벡터를 numpy배열로 생성하는 4가지 방법\n",
    "import numpy as np\n",
    "\n",
    "asList = [1,2,3]\n",
    "asArray = np.array([1,2,3]) #1차원 배열\n",
    "rowVec = np.array([[1,2,3]]) #행\n",
    "colVec = np.array([[1], [2], [3]]) #열\n",
    "print (asList)\n",
    "print (asArray)\n",
    "print (rowVec)\n",
    "print (colVec)"
   ]
  },
  {
   "cell_type": "markdown",
   "metadata": {},
   "source": [
    "asArray 변수는 방향이 없는 배열. "
   ]
  },
  {
   "cell_type": "code",
   "execution_count": null,
   "metadata": {},
   "outputs": [
    {
     "name": "stdout",
     "output_type": "stream",
     "text": [
      "asList: (3,)\n",
      "asArray: (3,)\n",
      "rowVec: (1, 3)\n",
      "colVec: (3, 1)\n"
     ]
    }
   ],
   "source": [
    "print(f'asList: {np.shape(asList)}') #차수 표시. 차수는 항상 (행, 열)로 표현\n",
    "print(f'asArray: {np.shape(asArray)}')\n",
    "print(f'rowVec: {np.shape(rowVec)}')\n",
    "print(f'colVec: {np.shape(colVec)}')\n"
   ]
  },
  {
   "cell_type": "markdown",
   "metadata": {},
   "source": [
    "- 벡터의 기하학적 해석\n",
    "- 순서대로 나열된 수 목록(ordered list of numbers)은 벡터의 대수학적 해석\n",
    "- 기하학적으로 해석하면 벡터는 특정 길이(또는 크기(magnitude))와 방샹(또는 각도(angle):양의 x축을 기준으로 계산)을 가진 직선"
   ]
  },
  {
   "cell_type": "code",
   "execution_count": null,
   "metadata": {},
   "outputs": [
    {
     "data": {
      "text/plain": [
       "array([[14, 15, 16],\n",
       "       [24, 25, 26],\n",
       "       [34, 35, 36]])"
      ]
     },
     "execution_count": 6,
     "metadata": {},
     "output_type": "execute_result"
    }
   ],
   "source": [
    "# - 벡터 연산\n",
    "v=np.array([[4,5,6]])#행벡터\n",
    "w=np.array([[10,20,30]]).T #열벡터\n",
    "v+w\n",
    "# broadcasting이라는 연산. 두 벡터의 차원과 방향이 같을 때만 더할 수 있다."
   ]
  },
  {
   "cell_type": "markdown",
   "metadata": {},
   "source": [
    "- 스칼라-벡터 곱셈\n",
    "- scalar: 벡터에 포함된 숫자가 아닌 수 그 자체\n",
    "- 일반적으로 $\\alpha, \\lambda$ 와 같은 그리스어 소문자로 나타냄\n",
    "- 스칼라-벡터 곱셈을 $\\lambda w$ 로 나타낼 수 있음\n",
    "- 스칼라-벡터 곱셈에서는 데이터 타입이 중요"
   ]
  },
  {
   "cell_type": "code",
   "execution_count": null,
   "metadata": {},
   "outputs": [
    {
     "name": "stdout",
     "output_type": "stream",
     "text": [
      "[3, 4, 5, 3, 4, 5]\n",
      "[ 6  8 10]\n"
     ]
    }
   ],
   "source": [
    "s=2\n",
    "a=[3,4,5] #리스트\n",
    "b=np.array(a) #np 배열\n",
    "print(a*s)\n",
    "print(b*s)"
   ]
  },
  {
   "cell_type": "markdown",
   "metadata": {},
   "source": [
    "- 파이썬에서 별표 연산은 변수 타입에 따라 다르게 동작하도록 재정의되어 있음\n",
    "- 리스트에 스칼라를 곱하면 리스트를 여러번 (위 예제는 두번) 반복 (이는 선형대수학의 스칼라-벡터 곱셈이 아님)\n",
    "- 하지만 벡터가 numpy배열이라면 별표 연산은 원소별로 곱셈을 함  (위 예제에서 만약 s=2.0 이라면 float이라 a와 곱할수가 없음, b와는 곱할 수 있음)"
   ]
  },
  {
   "cell_type": "code",
   "execution_count": null,
   "metadata": {},
   "outputs": [
    {
     "data": {
      "text/plain": [
       "array([5, 8])"
      ]
     },
     "execution_count": 12,
     "metadata": {},
     "output_type": "execute_result"
    }
   ],
   "source": [
    "#- 벡터에 스칼라를 더하는 것은 선형대수학에서는 불가능하지만 파이썬과 같은 수치 처리 프로그램에서는 벡터에 스칼라를 더할 수 있음\n",
    "s=2\n",
    "v=np.array([3,6])\n",
    "s+v"
   ]
  },
  {
   "cell_type": "markdown",
   "metadata": {},
   "source": [
    "- 전치(transpose) 연산은 열벡터를 행벡터로 또는 반대로 변환\n",
    "- 행렬에는 행과 열이 있으므로 각 행렬 원소는 (행,열) 인덱스를 가짐. 전치 연산은 단순히 이러한 인덱스를 맞바꾸는 것\n",
    "- 벡터를 두번 전치하면 벡터는 원래 방향이 됨. ex: 데이터 행렬에 자신으 전치를 곱하면 대칭공분산 행렬이 만들어짐. 주성분 분석이 데이터 공간의 직교 회전인 이유"
   ]
  },
  {
   "cell_type": "markdown",
   "metadata": {},
   "source": [
    "- 브로드캐스팅 연산: 컴퓨터 기반 선형대수학에서만 존재\n",
    "- 브로드캐스팅: 본질적으로 한 벡터를 다른 벡터의 각 연소로 연산을 여러 번 반복하는 것"
   ]
  },
  {
   "cell_type": "code",
   "execution_count": null,
   "metadata": {},
   "outputs": [
    {
     "data": {
      "text/plain": [
       "array([[11, 21],\n",
       "       [12, 22],\n",
       "       [13, 23]])"
      ]
     },
     "execution_count": 13,
     "metadata": {},
     "output_type": "execute_result"
    }
   ],
   "source": [
    "v=np.array([[1,2,3]]).T #열벡터\n",
    "w=np.array([[10,20]]) #행벡터\n",
    "v+w #브로드캐스팅 덧셈"
   ]
  },
  {
   "cell_type": "markdown",
   "metadata": {},
   "source": [
    "- 벡터의 크기(기하학적 길이 또는 norm)은 벡터의 꼬리부터 머리까지의 거리\n",
    "- 표준 유클리드(euclidean)거리 공식 (벡터 원소들의 제곱합에 제곱근을 취함)으로 구함\n",
    "- 벡터 크기(norm)은 벡터 양 옆에 이중 수직 막대로 표시 (||v||)\n",
    "- ||v|| = $\\sqrt{\\sum_{i=1}^{n} v_i^2}$ \n",
    "- 파이썬에서는 함수 len()은 배열의 차원을 반환, np.norm()은 기하학적 길이(크기)를 반환"
   ]
  },
  {
   "cell_type": "code",
   "execution_count": null,
   "metadata": {},
   "outputs": [],
   "source": [
    "v=np.array([1,2,3,7,8,9])\n",
    "v_dim=len(v) #수학의 차원\n",
    "v_mag=np.linalg.norm(v) #수학적 크기, 길이, 또는 norm"
   ]
  },
  {
   "cell_type": "markdown",
   "metadata": {},
   "source": [
    "- 기하학적인 길이가 1인 벡터를 사용 \n",
    "- 이를 단위벡터 (unit vector)이라 함\n",
    "- 단위벡터는 ||v||=1\n",
    "- 연관된 단위 벡터를 만드는 방법: 벡터 norm의 역수를 스칼라 곱셈 하면 됨\n",
    "- $ \\hat{v} = {\\dfrac{1}{||v||}}v$\n",
    "- 부모벡터(v)와 같은 방향의 단위벡터 ($\\hat{v}$)을 표시하는 일반적인 규약"
   ]
  },
  {
   "cell_type": "markdown",
   "metadata": {},
   "source": [
    "- 벡터-내적\n",
    "- 내적 (dot product) 또는 점곱, 스칼라곱\n",
    "- 내적은 하나의 숫자로 두 벡터 사이의 관계를 나타냄\n",
    "- 내적을 계산하려면 두 벡터에서 대응되는 원소끼리 곱한 다음 모든 결과를 더함.\n",
    "- 원소별로 곱하고 합하는 것.\n",
    "- $\\delta = \\sum_{i=1}^{n} a_ib_i$ (동일한 차원의 두 벡터 사이에서만 성립)\n",
    "- 내적 계산의 예: [1 2 3 4] dot [5 6 7 8] = 1X5+2X6+3X7+4X8=5+12+21+32=70"
   ]
  },
  {
   "cell_type": "code",
   "execution_count": null,
   "metadata": {},
   "outputs": [
    {
     "name": "stdout",
     "output_type": "stream",
     "text": [
      "70\n"
     ]
    }
   ],
   "source": [
    "# 파이썬에서 내적을 구현하는 방법 중 np.dot() 함수가 가장 간단\n",
    "v=np.array([1,2,3,4])\n",
    "w=np.array([5,6,7,8])\n",
    "print(np.dot(v,w))\n",
    "# np.dot() 함수는 실제로 벡터-내적을 구현하지 않음. 여러 내적으로 이루어진 행렬 곱셈을 구현한 것.\n"
   ]
  },
  {
   "cell_type": "code",
   "execution_count": null,
   "metadata": {},
   "outputs": [
    {
     "data": {
      "text/plain": [
       "700"
      ]
     },
     "execution_count": 21,
     "metadata": {},
     "output_type": "execute_result"
    }
   ],
   "source": [
    "#- 벡터에 스칼라를 곱하면 내적도 그만큼 커짐\n",
    "s=10\n",
    "np.dot(s*v,w)"
   ]
  },
  {
   "cell_type": "markdown",
   "metadata": {},
   "source": [
    "- 내적은 두 벡터 사이의 유사성(similarity)또는 매핑(mapping)의 척도로 해석할 수 있음\n",
    "- 두 변수 사이의 정규화된 내적을 피어슨 상관계수 (Pearson correlation coefficient)"
   ]
  },
  {
   "cell_type": "markdown",
   "metadata": {},
   "source": [
    "- 내적의 분배법칙\n",
    "- 수학의 분배법칙을 벡터-내적에 적용하면 다음과 같음\n",
    "- $a^T(b+c) = a^Tb+a^Tc$\n",
    "- 벡터 덧셈의 내적은 벡터-내적의 덧셈과 같음"
   ]
  },
  {
   "cell_type": "code",
   "execution_count": 4,
   "metadata": {},
   "outputs": [
    {
     "name": "stdout",
     "output_type": "stream",
     "text": [
      "110 110\n"
     ]
    }
   ],
   "source": [
    "# 분배법칙을 파이썬 코드로 구현\n",
    "a=np.array([0,1,2])\n",
    "b=np.array([3,5,8])\n",
    "c=np.array([13,21,34])\n",
    "# 내적 분배법칙\n",
    "res1 = np.dot(a, b+c)\n",
    "res2 = np.dot(a,b) + np.dot(a,c)\n",
    "print(res1, res2)\n",
    "# 결과가 동일한데 이는 분배법칙이 성립함을 보여줌"
   ]
  },
  {
   "cell_type": "markdown",
   "metadata": {},
   "source": [
    "- 내적의 기하학적 해석\n",
    "- 두 벡터의 크기(norm)을 곱하고 두 벡터 사이의 각도에서 코사인값만큼 크기를 늘리는 것\n",
    "- $\\alpha = cos(\\theta_{v, w} ||v|| ||w||)$\n",
    "- 두 직교벡터의 내적은 0"
   ]
  },
  {
   "cell_type": "markdown",
   "metadata": {},
   "source": [
    "- 내적 외에 벡터들을 곱하는 여러 방법들\n",
    "- 아다마르곱\n",
    "- 원소별로 곱하는 것을 뜻하는 용어 (Hardamard product)\n",
    "- 두 벡터의 대응되는 각 원소를 곱하면 됨\n",
    "- 곱의 결과는 두 벡터와 같은 차원의 벡터\n",
    "- $\\begin{bmatrix} 5\\\\4\\\\8\\\\2\\end{bmatrix} \\circ \\begin{bmatrix} 1\\\\0\\\\.5\\\\-1\\end{bmatrix} = \\begin{bmatrix}5\\\\0\\\\4\\\\-2\\end{bmatrix}$\n",
    "- 아다마르곱은 여러 스칼라를 곱할 때 편리함"
   ]
  },
  {
   "cell_type": "code",
   "execution_count": 5,
   "metadata": {},
   "outputs": [
    {
     "ename": "ValueError",
     "evalue": "operands could not be broadcast together with shapes (4,) (3,) ",
     "output_type": "error",
     "traceback": [
      "\u001b[0;31m---------------------------------------------------------------------------\u001b[0m",
      "\u001b[0;31mValueError\u001b[0m                                Traceback (most recent call last)",
      "Cell \u001b[0;32mIn[5], line 4\u001b[0m\n\u001b[1;32m      2\u001b[0m a\u001b[38;5;241m=\u001b[39mnp\u001b[38;5;241m.\u001b[39marray([\u001b[38;5;241m5\u001b[39m,\u001b[38;5;241m4\u001b[39m,\u001b[38;5;241m8\u001b[39m,\u001b[38;5;241m2\u001b[39m])\n\u001b[1;32m      3\u001b[0m b\u001b[38;5;241m=\u001b[39mnp\u001b[38;5;241m.\u001b[39marray([\u001b[38;5;241m1\u001b[39m,\u001b[38;5;241m0\u001b[39m,\u001b[38;5;241m.5\u001b[39m])\n\u001b[0;32m----> 4\u001b[0m \u001b[43ma\u001b[49m\u001b[38;5;241;43m*\u001b[39;49m\u001b[43mb\u001b[49m\n",
      "\u001b[0;31mValueError\u001b[0m: operands could not be broadcast together with shapes (4,) (3,) "
     ]
    }
   ],
   "source": [
    "#아다마르곱은 차원이 같은 두 벡터에 대해서만 동작함 따라서 아래 코드는 오류\n",
    "a=np.array([5,4,8,2])\n",
    "b=np.array([1,0,.5])\n",
    "a*b"
   ]
  },
  {
   "cell_type": "markdown",
   "metadata": {},
   "source": [
    "- 외적\n",
    "- 외적은 열벡터와 행벡터를 이용해 행렬을 만듦\n",
    "- 외적 행렬의 각 행은 행벡터 스칼라에 대응되는 열벡터 원소를 곱한 것\n",
    "- 외적 행렬의 각 열은 열벡터 스칼라에 대응되는 행벡터 원소를 곱한 것 ($계수^{rank} -1$ 행렬)\n",
    "- $\\begin{bmatrix} a\\\\ b\\\\ c\\end{bmatrix} \\begin{bmatrix} d e\\end{bmatrix}=\\begin{bmatrix} ad\\ ae\\\\ bd\\ be\\\\ cd\\ ce\\end{bmatrix}$\n",
    "- 외적과 내적의 차이. 외적은 스칼라 대신 행렬을 생성.\n",
    "- 외적의 두 벡터는 차원이 달라도 되지만 내적의 두 벡터는 차원이 같아야 함\n",
    "- 외적은 $vw^T$ 로 나타냄. 벡터가 열 방향이라고 가정한 것을 떠올려 보면 외적은 열에 행을 곱하는 것\n",
    "- 내적 표기법 $v^T w$와 외적 표기법 $vw^T$ 의 중요한 차이를 이해해야 함\n",
    "- 외적은 브로드캐스팅과는 비슷하지만 다름\n",
    "- 브로드캐스팅은 덧셈, 곱셈, 나눗셈과 같은 산술 연산을 벡터로 확장한 일반적인 코딩 연산\n",
    "- 하지만 외적은 두 벡터를 곱하는 특수한 수학적 기법임"
   ]
  },
  {
   "cell_type": "markdown",
   "metadata": {},
   "source": [
    "- 요점정리\n",
    "- 벡터는 열 또는 행에 숫자를 나열한 것. 벡터의 원소 수를 차원이라고 하며, 벡터는 차원과 동일한 수의 축을 가진 기하학적 공간에서 하나의 선으로 나타낼 수 있음\n",
    "- 덧셈, 뺄셈, 아다마르곱과 같은 벡터 산술 연산은 원소별로 계산함\n",
    "- 내적은 차원이 같은 두 벡터 간의 관계를 인코딩한 단일 숫자로, 원소별로 곱하고 합해서 구함\n",
    "- 두 벡터가 직교하면 내적은 0이며 기하학적으로 벡터가 직각으로 만나는 것을 의미\n",
    "- 직교벡터 분해는 하나의 벡터를 기준벡터와 직교하는 벡터, 평행한 벡터로 나누는 것. 분해 공식은 기하학적으로 도출될 수 있지만 공식이 내포한 개념인 '크기에 대한 매핑'이라는 문구를 기억해야 함"
   ]
  }
 ],
 "metadata": {
  "kernelspec": {
   "display_name": "Python 3",
   "language": "python",
   "name": "python3"
  },
  "language_info": {
   "codemirror_mode": {
    "name": "ipython",
    "version": 3
   },
   "file_extension": ".py",
   "mimetype": "text/x-python",
   "name": "python",
   "nbconvert_exporter": "python",
   "pygments_lexer": "ipython3",
   "version": "3.8.10"
  }
 },
 "nbformat": 4,
 "nbformat_minor": 2
}
